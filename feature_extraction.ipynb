{
 "cells": [
  {
   "cell_type": "code",
   "execution_count": 1317,
   "metadata": {},
   "outputs": [],
   "source": [
    "import pandas as pd\n",
    "import numpy as np\n",
    "import matplotlib.pyplot as plt\n",
    "import datetime as dt\n",
    "import dateutil as du\n",
    "import calendar\n",
    "from sklearn.model_selection import cross_validate\n",
    "from sklearn.ensemble import *\n",
    "from sklearn.linear_model import *\n",
    "from sklearn.kernel_ridge import *\n",
    "\n",
    "\n",
    "df = pd.read_csv()  datetime infer\n",
    "\n",
    "%matplotlib inline"
   ]
  },
  {
   "cell_type": "code",
   "execution_count": 1375,
   "metadata": {},
   "outputs": [],
   "source": [
    "weather = pd.read_csv(\"/Users/michaelford/uni/st-data-mining/stdm-coursework/weather.csv\", parse_dates=True, index_col='DATE')"
   ]
  },
  {
   "cell_type": "code",
   "execution_count": 1376,
   "metadata": {},
   "outputs": [
    {
     "data": {
      "text/html": [
       "<div>\n",
       "<style>\n",
       "    .dataframe thead tr:only-child th {\n",
       "        text-align: right;\n",
       "    }\n",
       "\n",
       "    .dataframe thead th {\n",
       "        text-align: left;\n",
       "    }\n",
       "\n",
       "    .dataframe tbody tr th {\n",
       "        vertical-align: top;\n",
       "    }\n",
       "</style>\n",
       "<table border=\"1\" class=\"dataframe\">\n",
       "  <thead>\n",
       "    <tr style=\"text-align: right;\">\n",
       "      <th></th>\n",
       "      <th>PRCP</th>\n",
       "      <th>TEMP</th>\n",
       "    </tr>\n",
       "    <tr>\n",
       "      <th>DATE</th>\n",
       "      <th></th>\n",
       "      <th></th>\n",
       "    </tr>\n",
       "  </thead>\n",
       "  <tbody>\n",
       "    <tr>\n",
       "      <th>2001-01-01</th>\n",
       "      <td>0.0</td>\n",
       "      <td>12.0</td>\n",
       "    </tr>\n",
       "    <tr>\n",
       "      <th>2001-02-01</th>\n",
       "      <td>0.0</td>\n",
       "      <td>13.0</td>\n",
       "    </tr>\n",
       "    <tr>\n",
       "      <th>2001-03-01</th>\n",
       "      <td>0.0</td>\n",
       "      <td>16.5</td>\n",
       "    </tr>\n",
       "    <tr>\n",
       "      <th>2001-04-01</th>\n",
       "      <td>0.0</td>\n",
       "      <td>23.5</td>\n",
       "    </tr>\n",
       "    <tr>\n",
       "      <th>2001-05-01</th>\n",
       "      <td>0.0</td>\n",
       "      <td>27.5</td>\n",
       "    </tr>\n",
       "  </tbody>\n",
       "</table>\n",
       "</div>"
      ],
      "text/plain": [
       "            PRCP  TEMP\n",
       "DATE                  \n",
       "2001-01-01   0.0  12.0\n",
       "2001-02-01   0.0  13.0\n",
       "2001-03-01   0.0  16.5\n",
       "2001-04-01   0.0  23.5\n",
       "2001-05-01   0.0  27.5"
      ]
     },
     "execution_count": 1376,
     "metadata": {},
     "output_type": "execute_result"
    }
   ],
   "source": []
  },
  {
   "cell_type": "code",
   "execution_count": null,
   "metadata": {},
   "outputs": [],
   "source": []
  },
  {
   "cell_type": "code",
   "execution_count": null,
   "metadata": {},
   "outputs": [],
   "source": [
    "s = df.groupby(['DateOnly']).size()\n",
    "\n",
    "idx = pd.date_range('2001-01-01', '2018-01-26')\n",
    "s = s.reindex(idx, fill_value=0)\n",
    "\n",
    "s = s[:-90]\n",
    "\n",
    "X = pd.DataFrame(s, columns=['Thefts'])\n",
    "\n"
   ]
  },
  {
   "cell_type": "code",
   "execution_count": 871,
   "metadata": {},
   "outputs": [
    {
     "name": "stdout",
     "output_type": "stream",
     "text": [
      "District 11.0 MAE: 1.8 mean predict: 5.928 mean thefts: 5.201\n",
      "District 6.0 MAE: 2.25 mean predict: 8.667 mean thefts: 7.873\n",
      "District 14.0 MAE: 2.48 mean predict: 9.602 mean thefts: 9.212\n",
      "District 19.0 MAE: 2.86 mean predict: 12.14 mean thefts: 11.435\n",
      "District 7.0 MAE: 2.66 mean predict: 7.054 mean thefts: 4.905\n",
      "District 2.0 MAE: 2.11 mean predict: 7.387 mean thefts: 6.944\n",
      "District 18.0 MAE: 3.15 mean predict: 16.315 mean thefts: 15.977\n",
      "District 25.0 MAE: 2.33 mean predict: 8.587 mean thefts: 7.438\n",
      "District 17.0 MAE: 2.0 mean predict: 6.17 mean thefts: 5.669\n",
      "District 3.0 MAE: 1.86 mean predict: 6.033 mean thefts: 5.217\n",
      "District 12.0 MAE: 2.6 mean predict: 11.658 mean thefts: 11.088\n",
      "District 24.0 MAE: 1.76 mean predict: 5.371 mean thefts: 4.902\n",
      "District 8.0 MAE: 2.75 mean predict: 10.155 mean thefts: 9.013\n",
      "District 16.0 MAE: 1.92 mean predict: 6.264 mean thefts: 5.611\n",
      "District 1.0 MAE: 3.28 mean predict: 16.966 mean thefts: 17.104\n",
      "District 4.0 MAE: 2.1 mean predict: 7.157 mean thefts: 6.366\n",
      "District 5.0 MAE: 1.82 mean predict: 5.484 mean thefts: 4.652\n",
      "District 20.0 MAE: 1.4 mean predict: 3.63 mean thefts: 3.193\n",
      "District 10.0 MAE: 1.87 mean predict: 5.319 mean thefts: 4.613\n",
      "District 9.0 MAE: 2.19 mean predict: 7.234 mean thefts: 6.177\n",
      "District 22.0 MAE: 1.82 mean predict: 5.43 mean thefts: 4.55\n",
      "District 15.0 MAE: 1.62 mean predict: 4.269 mean thefts: 3.534\n",
      "District 31.0 MAE: 0.001 mean predict: 0.004 mean thefts: 0.01\n",
      "District 23.0 MAE: 0.0 mean predict: 0.0 mean thefts: 0.0\n",
      "District 21.0 MAE: 0.0 mean predict: 0.0 mean thefts: 0.0\n",
      "0.313748669984052\n"
     ]
    }
   ],
   "source": [
    "districts = df['District'].unique()\n",
    "\n",
    "errors = []\n",
    "crimes = []\n",
    "\n",
    "for district in districts:\n",
    "    subset = df[df['District'] == district]\n",
    "    s = subset.groupby(['DateOnly']).size()\n",
    "    idx = pd.date_range('2001-01-01', '2018-01-26')\n",
    "    s = s.reindex(idx, fill_value=0)\n",
    "    s = s[:-90]\n",
    "    \n",
    "    X = pd.DataFrame(s, columns=['Thefts'])\n",
    "    for n in range (1,29):\n",
    "        X['Thefts_-'+str(n)+\"_days\"] = X.Thefts.shift(n)\n",
    "        \n",
    "        \n",
    "    X['Thefts_-2-5_day_mean'] = (X['Thefts_-2_days'] + X['Thefts_-3_days'] + X['Thefts_-4_days'] + X['Thefts_-5_days']) / 4\n",
    "    X['Thefts_-2-7_day_mean'] = (X['Thefts_-2_days'] + X['Thefts_-3_days'] + X['Thefts_-4_days'] + X['Thefts_-5_days'] + X['Thefts_-6_days'] + X['Thefts_-7_days']) / 6\n",
    "    X['Thefts_-2_day_of_week_mean'] = (X['Thefts_-7_days'] + X['Thefts_-14_days']) / 2\n",
    "    X['Thefts_-3_day_of_week_mean'] = (X['Thefts_-7_days'] + X['Thefts_-14_days'] + X['Thefts_-21_days']) / 3\n",
    "    X['Thefts_-4_day_of_week_mean'] = (X['Thefts_-7_days'] + X['Thefts_-14_days'] + X['Thefts_-21_days'] + X['Thefts_-28_days']) / 4\n",
    "    \n",
    "    X = X.dropna(axis=0, how='any')\n",
    "    \n",
    "    \n",
    "    X_train = X[:5000]\n",
    "    X_test = X[5000:]\n",
    "    y_train = X_train.pop('Thefts')\n",
    "    y_test = X_test.pop('Thefts')\n",
    "    \n",
    "    model = RandomForestRegressor(n_estimators=100)\n",
    "    \n",
    "    model.fit(X_train,y_train)\n",
    "    \n",
    "    y_hat = model.predict(X_test)\n",
    "    mae = np.median(np.abs(y_test-y_hat))\n",
    "    errors.append(mae)\n",
    "    crimes.append(np.median(y_test))\n",
    "    \n",
    "    print(\"District\", district, \"MAE:\", round(mae,3), \"mean predict:\", round(np.mean(y_hat),3),\"mean thefts:\", round(np.mean(y_test),3))\n",
    "\n",
    "print(np.mean(errors)/np.mean(crimes))   "
   ]
  },
  {
   "cell_type": "code",
   "execution_count": 901,
   "metadata": {},
   "outputs": [
    {
     "name": "stdout",
     "output_type": "stream",
     "text": [
      "DateOnly\n",
      "2001-01-01    405\n",
      "2001-01-02    221\n",
      "2001-01-03    226\n",
      "2001-01-04    243\n",
      "2001-01-05    262\n",
      "dtype: int64\n",
      "DateOnly\n",
      "2018-01-23    158\n",
      "2018-01-24    128\n",
      "2018-01-25    132\n",
      "2018-01-26    118\n",
      "2018-01-27     96\n",
      "dtype: int64\n"
     ]
    }
   ],
   "source": [
    "s = df.groupby(['DateOnly']).size()\n",
    "print(s.head())\n",
    "print(s.tail())"
   ]
  },
  {
   "cell_type": "code",
   "execution_count": 902,
   "metadata": {},
   "outputs": [],
   "source": [
    "# need to fill any missing dates with 0. (This will be especially important to go again when we group by district and date)\n",
    "idx = pd.date_range('2001-01-01', '2018-01-26')\n",
    "s = s.reindex(idx, fill_value=0)"
   ]
  },
  {
   "cell_type": "code",
   "execution_count": 903,
   "metadata": {},
   "outputs": [],
   "source": [
    "# dropping the last 90 days since it seems possible it's incomplete data from looking at it\n",
    "s = s[:-90]"
   ]
  },
  {
   "cell_type": "code",
   "execution_count": 904,
   "metadata": {},
   "outputs": [],
   "source": [
    "# So s is the value we want to predict, but we need to simulate some historic data which is available 2 days in advance of each value. \n",
    "# Going to extract some values from the crime levels a few days before our prediction to make this predictions.\n",
    "X = pd.DataFrame(s, columns=['Thefts'])"
   ]
  },
  {
   "cell_type": "code",
   "execution_count": 905,
   "metadata": {},
   "outputs": [],
   "source": [
    "# One-hot encode the day of the week\n",
    "X['Day'] = X.index.weekday_name\n",
    "X = X.join(pd.get_dummies(X['Day']))\n",
    "X = X.drop('Day', axis=1)"
   ]
  },
  {
   "cell_type": "code",
   "execution_count": 906,
   "metadata": {},
   "outputs": [],
   "source": [
    "# Extract the month and year from the date\n",
    "X['Month'] = X.index.month\n",
    "X = X.join(pd.get_dummies(X['Month']))\n",
    "X = X.drop('Month', axis=1)\n",
    "#X['Year'] = X.index.year"
   ]
  },
  {
   "cell_type": "code",
   "execution_count": 907,
   "metadata": {},
   "outputs": [],
   "source": [
    "for n in range (1,29):\n",
    "    X['Thefts_-'+str(n)+\"_days\"] = X.Thefts.shift(n)"
   ]
  },
  {
   "cell_type": "code",
   "execution_count": 908,
   "metadata": {},
   "outputs": [],
   "source": [
    "X['Thefts_-1-5_day_mean'] = (X['Thefts_-1_days'] + X['Thefts_-2_days'] + X['Thefts_-3_days'] + X['Thefts_-4_days'] + X['Thefts_-5_days']) / 5\n",
    "X['Thefts_-1-7_day_mean'] = (X['Thefts_-1_days'] + X['Thefts_-2_days'] + X['Thefts_-3_days'] + X['Thefts_-4_days'] + X['Thefts_-5_days'] + X['Thefts_-6_days'] + X['Thefts_-7_days']) / 7\n",
    "X['Thefts_-2_day_of_week_mean'] = (X['Thefts_-7_days'] + X['Thefts_-14_days']) / 2\n",
    "X['Thefts_-3_day_of_week_mean'] = (X['Thefts_-7_days'] + X['Thefts_-14_days'] + X['Thefts_-21_days']) / 3\n",
    "X['Thefts_-4_day_of_week_mean'] = (X['Thefts_-7_days'] + X['Thefts_-14_days'] + X['Thefts_-21_days'] + X['Thefts_-28_days']) / 4"
   ]
  },
  {
   "cell_type": "code",
   "execution_count": 909,
   "metadata": {},
   "outputs": [],
   "source": [
    "X = X.dropna(axis=0, how='any')"
   ]
  },
  {
   "cell_type": "code",
   "execution_count": 910,
   "metadata": {},
   "outputs": [
    {
     "data": {
      "text/html": [
       "<div>\n",
       "<style>\n",
       "    .dataframe thead tr:only-child th {\n",
       "        text-align: right;\n",
       "    }\n",
       "\n",
       "    .dataframe thead th {\n",
       "        text-align: left;\n",
       "    }\n",
       "\n",
       "    .dataframe tbody tr th {\n",
       "        vertical-align: top;\n",
       "    }\n",
       "</style>\n",
       "<table border=\"1\" class=\"dataframe\">\n",
       "  <thead>\n",
       "    <tr style=\"text-align: right;\">\n",
       "      <th></th>\n",
       "      <th>Thefts</th>\n",
       "      <th>Friday</th>\n",
       "      <th>Monday</th>\n",
       "      <th>Saturday</th>\n",
       "      <th>Sunday</th>\n",
       "      <th>Thursday</th>\n",
       "      <th>Tuesday</th>\n",
       "      <th>Wednesday</th>\n",
       "      <th>1</th>\n",
       "      <th>2</th>\n",
       "      <th>...</th>\n",
       "      <th>Thefts_-24_days</th>\n",
       "      <th>Thefts_-25_days</th>\n",
       "      <th>Thefts_-26_days</th>\n",
       "      <th>Thefts_-27_days</th>\n",
       "      <th>Thefts_-28_days</th>\n",
       "      <th>Thefts_-1-5_day_mean</th>\n",
       "      <th>Thefts_-1-7_day_mean</th>\n",
       "      <th>Thefts_-2_day_of_week_mean</th>\n",
       "      <th>Thefts_-3_day_of_week_mean</th>\n",
       "      <th>Thefts_-4_day_of_week_mean</th>\n",
       "    </tr>\n",
       "  </thead>\n",
       "  <tbody>\n",
       "    <tr>\n",
       "      <th>2001-01-29</th>\n",
       "      <td>252</td>\n",
       "      <td>0</td>\n",
       "      <td>1</td>\n",
       "      <td>0</td>\n",
       "      <td>0</td>\n",
       "      <td>0</td>\n",
       "      <td>0</td>\n",
       "      <td>0</td>\n",
       "      <td>1</td>\n",
       "      <td>0</td>\n",
       "      <td>...</td>\n",
       "      <td>262.0</td>\n",
       "      <td>243.0</td>\n",
       "      <td>226.0</td>\n",
       "      <td>221.0</td>\n",
       "      <td>405.0</td>\n",
       "      <td>225.4</td>\n",
       "      <td>233.571429</td>\n",
       "      <td>284.5</td>\n",
       "      <td>271.000000</td>\n",
       "      <td>304.50</td>\n",
       "    </tr>\n",
       "    <tr>\n",
       "      <th>2001-01-30</th>\n",
       "      <td>252</td>\n",
       "      <td>0</td>\n",
       "      <td>0</td>\n",
       "      <td>0</td>\n",
       "      <td>0</td>\n",
       "      <td>0</td>\n",
       "      <td>1</td>\n",
       "      <td>0</td>\n",
       "      <td>1</td>\n",
       "      <td>0</td>\n",
       "      <td>...</td>\n",
       "      <td>246.0</td>\n",
       "      <td>262.0</td>\n",
       "      <td>243.0</td>\n",
       "      <td>226.0</td>\n",
       "      <td>221.0</td>\n",
       "      <td>227.8</td>\n",
       "      <td>232.857143</td>\n",
       "      <td>260.5</td>\n",
       "      <td>260.333333</td>\n",
       "      <td>250.50</td>\n",
       "    </tr>\n",
       "    <tr>\n",
       "      <th>2001-01-31</th>\n",
       "      <td>244</td>\n",
       "      <td>0</td>\n",
       "      <td>0</td>\n",
       "      <td>0</td>\n",
       "      <td>0</td>\n",
       "      <td>0</td>\n",
       "      <td>0</td>\n",
       "      <td>1</td>\n",
       "      <td>1</td>\n",
       "      <td>0</td>\n",
       "      <td>...</td>\n",
       "      <td>201.0</td>\n",
       "      <td>246.0</td>\n",
       "      <td>262.0</td>\n",
       "      <td>243.0</td>\n",
       "      <td>226.0</td>\n",
       "      <td>230.8</td>\n",
       "      <td>233.000000</td>\n",
       "      <td>260.0</td>\n",
       "      <td>257.666667</td>\n",
       "      <td>249.75</td>\n",
       "    </tr>\n",
       "    <tr>\n",
       "      <th>2001-02-01</th>\n",
       "      <td>311</td>\n",
       "      <td>0</td>\n",
       "      <td>0</td>\n",
       "      <td>0</td>\n",
       "      <td>0</td>\n",
       "      <td>1</td>\n",
       "      <td>0</td>\n",
       "      <td>0</td>\n",
       "      <td>0</td>\n",
       "      <td>1</td>\n",
       "      <td>...</td>\n",
       "      <td>244.0</td>\n",
       "      <td>201.0</td>\n",
       "      <td>246.0</td>\n",
       "      <td>262.0</td>\n",
       "      <td>243.0</td>\n",
       "      <td>233.0</td>\n",
       "      <td>233.571429</td>\n",
       "      <td>244.0</td>\n",
       "      <td>248.000000</td>\n",
       "      <td>246.75</td>\n",
       "    </tr>\n",
       "    <tr>\n",
       "      <th>2001-02-02</th>\n",
       "      <td>240</td>\n",
       "      <td>1</td>\n",
       "      <td>0</td>\n",
       "      <td>0</td>\n",
       "      <td>0</td>\n",
       "      <td>0</td>\n",
       "      <td>0</td>\n",
       "      <td>0</td>\n",
       "      <td>0</td>\n",
       "      <td>1</td>\n",
       "      <td>...</td>\n",
       "      <td>260.0</td>\n",
       "      <td>244.0</td>\n",
       "      <td>201.0</td>\n",
       "      <td>246.0</td>\n",
       "      <td>262.0</td>\n",
       "      <td>247.6</td>\n",
       "      <td>244.142857</td>\n",
       "      <td>254.5</td>\n",
       "      <td>265.333333</td>\n",
       "      <td>264.50</td>\n",
       "    </tr>\n",
       "  </tbody>\n",
       "</table>\n",
       "<p>5 rows × 53 columns</p>\n",
       "</div>"
      ],
      "text/plain": [
       "            Thefts  Friday  Monday  Saturday  Sunday  Thursday  Tuesday  \\\n",
       "2001-01-29     252       0       1         0       0         0        0   \n",
       "2001-01-30     252       0       0         0       0         0        1   \n",
       "2001-01-31     244       0       0         0       0         0        0   \n",
       "2001-02-01     311       0       0         0       0         1        0   \n",
       "2001-02-02     240       1       0         0       0         0        0   \n",
       "\n",
       "            Wednesday  1  2             ...              Thefts_-24_days  \\\n",
       "2001-01-29          0  1  0             ...                        262.0   \n",
       "2001-01-30          0  1  0             ...                        246.0   \n",
       "2001-01-31          1  1  0             ...                        201.0   \n",
       "2001-02-01          0  0  1             ...                        244.0   \n",
       "2001-02-02          0  0  1             ...                        260.0   \n",
       "\n",
       "            Thefts_-25_days  Thefts_-26_days  Thefts_-27_days  \\\n",
       "2001-01-29            243.0            226.0            221.0   \n",
       "2001-01-30            262.0            243.0            226.0   \n",
       "2001-01-31            246.0            262.0            243.0   \n",
       "2001-02-01            201.0            246.0            262.0   \n",
       "2001-02-02            244.0            201.0            246.0   \n",
       "\n",
       "            Thefts_-28_days  Thefts_-1-5_day_mean  Thefts_-1-7_day_mean  \\\n",
       "2001-01-29            405.0                 225.4            233.571429   \n",
       "2001-01-30            221.0                 227.8            232.857143   \n",
       "2001-01-31            226.0                 230.8            233.000000   \n",
       "2001-02-01            243.0                 233.0            233.571429   \n",
       "2001-02-02            262.0                 247.6            244.142857   \n",
       "\n",
       "            Thefts_-2_day_of_week_mean  Thefts_-3_day_of_week_mean  \\\n",
       "2001-01-29                       284.5                  271.000000   \n",
       "2001-01-30                       260.5                  260.333333   \n",
       "2001-01-31                       260.0                  257.666667   \n",
       "2001-02-01                       244.0                  248.000000   \n",
       "2001-02-02                       254.5                  265.333333   \n",
       "\n",
       "            Thefts_-4_day_of_week_mean  \n",
       "2001-01-29                      304.50  \n",
       "2001-01-30                      250.50  \n",
       "2001-01-31                      249.75  \n",
       "2001-02-01                      246.75  \n",
       "2001-02-02                      264.50  \n",
       "\n",
       "[5 rows x 53 columns]"
      ]
     },
     "execution_count": 910,
     "metadata": {},
     "output_type": "execute_result"
    }
   ],
   "source": [
    "X.head()"
   ]
  },
  {
   "cell_type": "code",
   "execution_count": 865,
   "metadata": {},
   "outputs": [],
   "source": [
    "X = X.sample(frac=1)\n",
    "y = X.pop('Thefts')"
   ]
  },
  {
   "cell_type": "code",
   "execution_count": 911,
   "metadata": {},
   "outputs": [],
   "source": [
    "X_train = X[:5000]\n",
    "X_test = X[5000:]\n",
    "y_train = X_train.pop('Thefts')\n",
    "y_test = X_test.pop('Thefts')"
   ]
  },
  {
   "cell_type": "code",
   "execution_count": 1006,
   "metadata": {},
   "outputs": [],
   "source": []
  },
  {
   "cell_type": "code",
   "execution_count": 617,
   "metadata": {},
   "outputs": [
    {
     "data": {
      "text/plain": [
       "{'fit_time': array([0.0050528 , 0.0045011 , 0.00357199, 0.00414181, 0.00405884]),\n",
       " 'score_time': array([0.00101924, 0.00101566, 0.00093508, 0.00096726, 0.00097823]),\n",
       " 'test_score': array([-17.89909318, -17.60651323, -18.21663943, -18.10460302,\n",
       "        -19.47583384]),\n",
       " 'train_score': array([-18.17518817, -18.26628893, -18.08885697, -18.12222928,\n",
       "        -17.72903656])}"
      ]
     },
     "execution_count": 617,
     "metadata": {},
     "output_type": "execute_result"
    }
   ],
   "source": []
  },
  {
   "cell_type": "code",
   "execution_count": 1004,
   "metadata": {},
   "outputs": [],
   "source": [
    "model = Lasso(max_iter=50000, alpha=1,normalize=False)"
   ]
  },
  {
   "cell_type": "code",
   "execution_count": 1018,
   "metadata": {},
   "outputs": [],
   "source": [
    "model = Ridge()"
   ]
  },
  {
   "cell_type": "code",
   "execution_count": 999,
   "metadata": {},
   "outputs": [],
   "source": [
    "model = KernelRidge()"
   ]
  },
  {
   "cell_type": "code",
   "execution_count": 1019,
   "metadata": {},
   "outputs": [
    {
     "data": {
      "text/plain": [
       "Ridge(alpha=1.0, copy_X=True, fit_intercept=True, max_iter=None,\n",
       "   normalize=False, random_state=None, solver='auto', tol=0.001)"
      ]
     },
     "execution_count": 1019,
     "metadata": {},
     "output_type": "execute_result"
    }
   ],
   "source": [
    "model.fit(X_train,y_train,sample_weight=np.logspace(0,2,num=len(X_train),base=2.0))"
   ]
  },
  {
   "cell_type": "code",
   "execution_count": 1008,
   "metadata": {},
   "outputs": [],
   "source": [
    "y_hat = model.predict(X_test)"
   ]
  },
  {
   "cell_type": "code",
   "execution_count": 1009,
   "metadata": {},
   "outputs": [
    {
     "data": {
      "text/plain": [
       "array([178.604, 176.208, 189.998, ..., 183.58 , 196.792, 185.21 ])"
      ]
     },
     "execution_count": 1009,
     "metadata": {},
     "output_type": "execute_result"
    }
   ],
   "source": [
    "y_hat"
   ]
  },
  {
   "cell_type": "code",
   "execution_count": 1010,
   "metadata": {},
   "outputs": [
    {
     "data": {
      "text/plain": [
       "0.09475515787010469"
      ]
     },
     "execution_count": 1010,
     "metadata": {},
     "output_type": "execute_result"
    }
   ],
   "source": [
    "np.mean(np.abs(y_test-y_hat))/np.mean(y_test)"
   ]
  },
  {
   "cell_type": "code",
   "execution_count": null,
   "metadata": {},
   "outputs": [],
   "source": []
  },
  {
   "cell_type": "code",
   "execution_count": 1290,
   "metadata": {},
   "outputs": [],
   "source": [
    "def roll(data):\n",
    "    rows, cols = data.shape\n",
    "    errors = []\n",
    "    \n",
    "    for n in range(5000,rows-1):\n",
    "        X_train = X[:n]\n",
    "        X_test = X[n:n+1]\n",
    "        y_train = X_train.pop('Thefts')\n",
    "        y_test = X_test.pop('Thefts')\n",
    "        \n",
    "        model = RandomForestRegressor(n_jobs=7)\n",
    "        #weights = np.logspace(0,2,num=len(X_train),base=10.0)\n",
    "        weights = np.linspace(0,10,num=len(X_train))\n",
    "        model.fit(X_train,y_train,sample_weight=weights)\n",
    "        y_hat = model.predict(X_test)\n",
    "        \n",
    "        absolute_error = np.abs(y_test-y_hat)\n",
    "        errors.append(absolute_error/y_test)\n",
    "        \n",
    "        if n % 250 == 0:\n",
    "            print(n)\n",
    "            print(np.mean(errors))\n",
    "        \n",
    "    return np.mean(errors) "
   ]
  },
  {
   "cell_type": "code",
   "execution_count": 1202,
   "metadata": {},
   "outputs": [],
   "source": [
    "def extract(df):\n",
    "    \n",
    "    date_group = df.groupby(['DateOnly'])\n",
    "    s = date_group.size()\n",
    "    idx = pd.date_range('2001-01-01', '2018-01-26')\n",
    "    s = s.reindex(idx, fill_value=0)\n",
    "    X = pd.DataFrame(s, columns=['Thefts'])   \n",
    "    \n",
    "    X['UniqueLocations'] = date_group.Block.nunique()\n",
    "    X['Under500'] = df[df['Description'] == \"$500 AND UNDER\"].groupby(['DateOnly']).size()\n",
    "    X['Over500'] = df[df['Description'] == \"OVER $500\"].groupby(['DateOnly']).size()\n",
    "    X['FromBuilding'] = df[df['Description'] == \"FROM BUILDING\"].groupby(['DateOnly']).size()\n",
    "    X['Retail'] = df[df['Description'] == \"RETAIL THEFT\"].groupby(['DateOnly']).size()\n",
    "    X['TotalArrests'] = df[df['Arrest'] == True].groupby(['DateOnly']).size()\n",
    "    \n",
    "    X['ArrestRate'] = X['TotalArrests']/X['Thefts']\n",
    "    X['UniqueLocationRate'] = X['UniqueLocations']/X['Thefts']\n",
    "    \n",
    "    return X.fillna(value=0)"
   ]
  },
  {
   "cell_type": "code",
   "execution_count": 1224,
   "metadata": {},
   "outputs": [],
   "source": [
    "ex = extract(df)"
   ]
  },
  {
   "cell_type": "code",
   "execution_count": 1343,
   "metadata": {},
   "outputs": [],
   "source": [
    "def lag(df):\n",
    "    \n",
    "    cols = list(df)\n",
    "    X = df.copy()\n",
    "    \n",
    "    for col in cols:\n",
    "        for n in range(2,36):\n",
    "            X[col+'_-'+str(n)] = X[col].shift(n)\n",
    "        \n",
    "        X[col+'_-357'] = X[col].shift(357)\n",
    "        X[col+'_-364'] = X[col].shift(364)\n",
    "        X[col+'_-371'] = X[col].shift(371)\n",
    "        X[col+'_-1y_week_day_mean'] = (X[col].shift(357) + X[col].shift(364) + X[col].shift(371)) / 3\n",
    "        X[col+'_-1y_week_mean'] = (X[col].shift(360) + X[col].shift(362) + X[col].shift(363) + X[col].shift(364) + X[col].shift(365) + X[col].shift(367) + X[col].shift(368)) / 7       \n",
    "          \n",
    "        X[col+'_7_day_mean'] = (X[col+'_-2'] + X[col+'_-3'] + X[col+'_-4'] + X[col+'_-5'] + X[col+'_-6'] + X[col+'_-7']) / 6\n",
    "        X[col+'_2_day_of_week_mean'] = (X[col+'_-7'] + X[col+'_-14']) / 2\n",
    "        X[col+'_3_day_of_week_mean'] = (X[col+'_-7'] + X[col+'_-14'] + X[col+'_-21']) / 3\n",
    "        X[col+'_4_day_of_week_mean'] = (X[col+'_-7'] + X[col+'_-14'] + X[col+'_-21'] + X[col+'_-28']) / 4\n",
    "        X[col+'_5_day_of_week_mean'] = (X[col+'_-7'] + X[col+'_-14'] + X[col+'_-21'] + X[col+'_-28'] + X[col+'_-35']) / 5\n",
    "    \n",
    "    cols.remove('Thefts')\n",
    "    X = X.drop(cols, axis=1)\n",
    "    \n",
    "    return X.dropna(axis=0, how='any')[:-90]\n",
    "    "
   ]
  },
  {
   "cell_type": "code",
   "execution_count": 1380,
   "metadata": {},
   "outputs": [],
   "source": [
    "px = lag(ex)\n",
    "px = px.merge(weather, left_index=True, right_index=True, how='inner')"
   ]
  },
  {
   "cell_type": "code",
   "execution_count": null,
   "metadata": {},
   "outputs": [
    {
     "name": "stdout",
     "output_type": "stream",
     "text": [
      "5000\n",
      "0.007182320441989013\n"
     ]
    }
   ],
   "source": [
    "roll(px)"
   ]
  },
  {
   "cell_type": "code",
   "execution_count": 1261,
   "metadata": {},
   "outputs": [],
   "source": [
    "X_train = px[:5000]\n",
    "X_test = px[5000:]\n",
    "y_train = X_train.pop('Thefts')\n",
    "y_test = X_test.pop('Thefts')"
   ]
  },
  {
   "cell_type": "code",
   "execution_count": 1379,
   "metadata": {},
   "outputs": [
    {
     "name": "stdout",
     "output_type": "stream",
     "text": [
      "[CV]  ................................................................\n",
      "[CV]  ................................................................\n",
      "[CV] ....................... , score=-24.80451948051948, total=  40.3s\n",
      "[CV]  ................................................................\n",
      "[CV] ...................... , score=-20.943648180242636, total=  40.4s\n",
      "[CV]  ................................................................\n",
      "[CV] ........................ , score=-18.7665424610052, total=  41.4s\n",
      "[CV]  ................................................................\n",
      "[CV] ...................... , score=-17.274254766031195, total=  42.6s\n",
      "[CV] ...................... , score=-16.408223570190643, total=  39.4s\n"
     ]
    },
    {
     "name": "stderr",
     "output_type": "stream",
     "text": [
      "[Parallel(n_jobs=2)]: Done   5 out of   5 | elapsed:  2.0min finished\n"
     ]
    },
    {
     "data": {
      "text/plain": [
       "{'fit_time': array([40.21395016, 40.31733608, 41.24162507, 42.45056987, 39.33414221]),\n",
       " 'score_time': array([0.10910678, 0.10755777, 0.10896373, 0.10394001, 0.10594296]),\n",
       " 'test_score': array([-24.80451948, -20.94364818, -18.76654246, -17.27425477,\n",
       "        -16.40822357]),\n",
       " 'train_score': array([-6.50776213, -6.67165475, -6.81446177, -6.96087936, -7.13440979])}"
      ]
     },
     "execution_count": 1379,
     "metadata": {},
     "output_type": "execute_result"
    }
   ],
   "source": [
    "y = px.pop(\"Thefts\")\n",
    "model = RandomForestRegressor(n_estimators=100, n_jobs=2)\n",
    "cross_validate(model, px, y, cv=5, scoring='neg_mean_absolute_error', n_jobs=2, verbose=3)"
   ]
  },
  {
   "cell_type": "code",
   "execution_count": 1348,
   "metadata": {},
   "outputs": [
    {
     "data": {
      "text/plain": [
       "RandomForestRegressor(bootstrap=True, criterion='mse', max_depth=None,\n",
       "           max_features='auto', max_leaf_nodes=None,\n",
       "           min_impurity_decrease=0.0, min_impurity_split=None,\n",
       "           min_samples_leaf=1, min_samples_split=2,\n",
       "           min_weight_fraction_leaf=0.0, n_estimators=100, n_jobs=2,\n",
       "           oob_score=False, random_state=None, verbose=0, warm_start=False)"
      ]
     },
     "execution_count": 1348,
     "metadata": {},
     "output_type": "execute_result"
    }
   ],
   "source": [
    "y = px.pop(\"Thefts\")\n",
    "model.fit(px, y)"
   ]
  },
  {
   "cell_type": "code",
   "execution_count": 1351,
   "metadata": {},
   "outputs": [
    {
     "data": {
      "text/plain": [
       "<matplotlib.axes._subplots.AxesSubplot at 0x2e4e564e0>"
      ]
     },
     "execution_count": 1351,
     "metadata": {},
     "output_type": "execute_result"
    },
    {
     "data": {
      "image/png": "[encoded data removed]",
      "text/plain": [
       "<matplotlib.figure.Figure at 0x2dbe6d710>"
      ]
     },
     "metadata": {},
     "output_type": "display_data"
    }
   ],
   "source": [
    "feat_importances = pd.Series(model.feature_importances_, index=px.columns)\n",
    "feat_importances = feat_importances.nlargest(25)\n",
    "feat_importances.plot(kind='barh')"
   ]
  },
  {
   "cell_type": "code",
   "execution_count": 1341,
   "metadata": {},
   "outputs": [
    {
     "data": {
      "text/plain": [
       "datetime.datetime(2013, 3, 17, 16, 18, 9, 522847)"
      ]
     },
     "execution_count": 1341,
     "metadata": {},
     "output_type": "execute_result"
    }
   ],
   "source": [
    "NOW+relativedelta(years=-5, weekday=NOW.weekday())"
   ]
  },
  {
   "cell_type": "code",
   "execution_count": 1342,
   "metadata": {},
   "outputs": [
    {
     "data": {
      "text/plain": [
       "datetime.datetime(2013, 3, 17, 16, 18, 9, 522847)"
      ]
     },
     "execution_count": 1342,
     "metadata": {},
     "output_type": "execute_result"
    }
   ],
   "source": [
    "NOW+relativedelta(days=-1820)"
   ]
  },
  {
   "cell_type": "code",
   "execution_count": 1365,
   "metadata": {},
   "outputs": [],
   "source": [
    "px = px.merge(weather, left_index=True, right_index=True, how='inner')"
   ]
  },
  {
   "cell_type": "code",
   "execution_count": 1367,
   "metadata": {},
   "outputs": [
    {
     "data": {
      "text/html": [
       "<div>\n",
       "<style>\n",
       "    .dataframe thead tr:only-child th {\n",
       "        text-align: right;\n",
       "    }\n",
       "\n",
       "    .dataframe thead th {\n",
       "        text-align: left;\n",
       "    }\n",
       "\n",
       "    .dataframe tbody tr th {\n",
       "        vertical-align: top;\n",
       "    }\n",
       "</style>\n",
       "<table border=\"1\" class=\"dataframe\">\n",
       "  <thead>\n",
       "    <tr style=\"text-align: right;\">\n",
       "      <th></th>\n",
       "      <th>Thefts_-2</th>\n",
       "      <th>Thefts_-3</th>\n",
       "      <th>Thefts_-4</th>\n",
       "      <th>Thefts_-5</th>\n",
       "      <th>Thefts_-6</th>\n",
       "      <th>Thefts_-7</th>\n",
       "      <th>Thefts_-8</th>\n",
       "      <th>Thefts_-9</th>\n",
       "      <th>Thefts_-10</th>\n",
       "      <th>Thefts_-11</th>\n",
       "      <th>...</th>\n",
       "      <th>UniqueLocationRate_-371</th>\n",
       "      <th>UniqueLocationRate_-1y_week_day_mean</th>\n",
       "      <th>UniqueLocationRate_-1y_week_mean</th>\n",
       "      <th>UniqueLocationRate_7_day_mean</th>\n",
       "      <th>UniqueLocationRate_2_day_of_week_mean</th>\n",
       "      <th>UniqueLocationRate_3_day_of_week_mean</th>\n",
       "      <th>UniqueLocationRate_4_day_of_week_mean</th>\n",
       "      <th>UniqueLocationRate_5_day_of_week_mean</th>\n",
       "      <th>PRCP</th>\n",
       "      <th>TEMP</th>\n",
       "    </tr>\n",
       "  </thead>\n",
       "  <tbody>\n",
       "    <tr>\n",
       "      <th>2002-01-07</th>\n",
       "      <td>202.0</td>\n",
       "      <td>206.0</td>\n",
       "      <td>211.0</td>\n",
       "      <td>266.0</td>\n",
       "      <td>344.0</td>\n",
       "      <td>222.0</td>\n",
       "      <td>165.0</td>\n",
       "      <td>217.0</td>\n",
       "      <td>226.0</td>\n",
       "      <td>195.0</td>\n",
       "      <td>...</td>\n",
       "      <td>0.955556</td>\n",
       "      <td>0.923675</td>\n",
       "      <td>0.921344</td>\n",
       "      <td>0.944723</td>\n",
       "      <td>0.908384</td>\n",
       "      <td>0.919839</td>\n",
       "      <td>0.921062</td>\n",
       "      <td>0.930265</td>\n",
       "      <td>0.0</td>\n",
       "      <td>83.5</td>\n",
       "    </tr>\n",
       "    <tr>\n",
       "      <th>2002-01-08</th>\n",
       "      <td>175.0</td>\n",
       "      <td>202.0</td>\n",
       "      <td>206.0</td>\n",
       "      <td>211.0</td>\n",
       "      <td>266.0</td>\n",
       "      <td>344.0</td>\n",
       "      <td>222.0</td>\n",
       "      <td>165.0</td>\n",
       "      <td>217.0</td>\n",
       "      <td>226.0</td>\n",
       "      <td>...</td>\n",
       "      <td>0.963801</td>\n",
       "      <td>0.938598</td>\n",
       "      <td>0.924263</td>\n",
       "      <td>0.947760</td>\n",
       "      <td>0.973630</td>\n",
       "      <td>0.956300</td>\n",
       "      <td>0.942835</td>\n",
       "      <td>0.942353</td>\n",
       "      <td>0.0</td>\n",
       "      <td>86.5</td>\n",
       "    </tr>\n",
       "    <tr>\n",
       "      <th>2002-01-09</th>\n",
       "      <td>217.0</td>\n",
       "      <td>175.0</td>\n",
       "      <td>202.0</td>\n",
       "      <td>206.0</td>\n",
       "      <td>211.0</td>\n",
       "      <td>266.0</td>\n",
       "      <td>344.0</td>\n",
       "      <td>222.0</td>\n",
       "      <td>165.0</td>\n",
       "      <td>217.0</td>\n",
       "      <td>...</td>\n",
       "      <td>0.920354</td>\n",
       "      <td>0.917466</td>\n",
       "      <td>0.922512</td>\n",
       "      <td>0.942821</td>\n",
       "      <td>0.917852</td>\n",
       "      <td>0.909881</td>\n",
       "      <td>0.921258</td>\n",
       "      <td>0.924408</td>\n",
       "      <td>0.0</td>\n",
       "      <td>71.0</td>\n",
       "    </tr>\n",
       "    <tr>\n",
       "      <th>2002-01-10</th>\n",
       "      <td>221.0</td>\n",
       "      <td>217.0</td>\n",
       "      <td>175.0</td>\n",
       "      <td>202.0</td>\n",
       "      <td>206.0</td>\n",
       "      <td>211.0</td>\n",
       "      <td>266.0</td>\n",
       "      <td>344.0</td>\n",
       "      <td>222.0</td>\n",
       "      <td>165.0</td>\n",
       "      <td>...</td>\n",
       "      <td>0.925926</td>\n",
       "      <td>0.934711</td>\n",
       "      <td>0.916658</td>\n",
       "      <td>0.942532</td>\n",
       "      <td>0.955596</td>\n",
       "      <td>0.950397</td>\n",
       "      <td>0.938691</td>\n",
       "      <td>0.936027</td>\n",
       "      <td>0.0</td>\n",
       "      <td>73.5</td>\n",
       "    </tr>\n",
       "    <tr>\n",
       "      <th>2002-01-11</th>\n",
       "      <td>250.0</td>\n",
       "      <td>221.0</td>\n",
       "      <td>217.0</td>\n",
       "      <td>175.0</td>\n",
       "      <td>202.0</td>\n",
       "      <td>206.0</td>\n",
       "      <td>211.0</td>\n",
       "      <td>266.0</td>\n",
       "      <td>344.0</td>\n",
       "      <td>222.0</td>\n",
       "      <td>...</td>\n",
       "      <td>0.950382</td>\n",
       "      <td>0.929155</td>\n",
       "      <td>0.927364</td>\n",
       "      <td>0.945641</td>\n",
       "      <td>0.944325</td>\n",
       "      <td>0.941223</td>\n",
       "      <td>0.945656</td>\n",
       "      <td>0.948751</td>\n",
       "      <td>0.0</td>\n",
       "      <td>37.5</td>\n",
       "    </tr>\n",
       "  </tbody>\n",
       "</table>\n",
       "<p>5 rows × 398 columns</p>\n",
       "</div>"
      ],
      "text/plain": [
       "            Thefts_-2  Thefts_-3  Thefts_-4  Thefts_-5  Thefts_-6  Thefts_-7  \\\n",
       "2002-01-07      202.0      206.0      211.0      266.0      344.0      222.0   \n",
       "2002-01-08      175.0      202.0      206.0      211.0      266.0      344.0   \n",
       "2002-01-09      217.0      175.0      202.0      206.0      211.0      266.0   \n",
       "2002-01-10      221.0      217.0      175.0      202.0      206.0      211.0   \n",
       "2002-01-11      250.0      221.0      217.0      175.0      202.0      206.0   \n",
       "\n",
       "            Thefts_-8  Thefts_-9  Thefts_-10  Thefts_-11  ...   \\\n",
       "2002-01-07      165.0      217.0       226.0       195.0  ...    \n",
       "2002-01-08      222.0      165.0       217.0       226.0  ...    \n",
       "2002-01-09      344.0      222.0       165.0       217.0  ...    \n",
       "2002-01-10      266.0      344.0       222.0       165.0  ...    \n",
       "2002-01-11      211.0      266.0       344.0       222.0  ...    \n",
       "\n",
       "            UniqueLocationRate_-371  UniqueLocationRate_-1y_week_day_mean  \\\n",
       "2002-01-07                 0.955556                              0.923675   \n",
       "2002-01-08                 0.963801                              0.938598   \n",
       "2002-01-09                 0.920354                              0.917466   \n",
       "2002-01-10                 0.925926                              0.934711   \n",
       "2002-01-11                 0.950382                              0.929155   \n",
       "\n",
       "            UniqueLocationRate_-1y_week_mean  UniqueLocationRate_7_day_mean  \\\n",
       "2002-01-07                          0.921344                       0.944723   \n",
       "2002-01-08                          0.924263                       0.947760   \n",
       "2002-01-09                          0.922512                       0.942821   \n",
       "2002-01-10                          0.916658                       0.942532   \n",
       "2002-01-11                          0.927364                       0.945641   \n",
       "\n",
       "            UniqueLocationRate_2_day_of_week_mean  \\\n",
       "2002-01-07                               0.908384   \n",
       "2002-01-08                               0.973630   \n",
       "2002-01-09                               0.917852   \n",
       "2002-01-10                               0.955596   \n",
       "2002-01-11                               0.944325   \n",
       "\n",
       "            UniqueLocationRate_3_day_of_week_mean  \\\n",
       "2002-01-07                               0.919839   \n",
       "2002-01-08                               0.956300   \n",
       "2002-01-09                               0.909881   \n",
       "2002-01-10                               0.950397   \n",
       "2002-01-11                               0.941223   \n",
       "\n",
       "            UniqueLocationRate_4_day_of_week_mean  \\\n",
       "2002-01-07                               0.921062   \n",
       "2002-01-08                               0.942835   \n",
       "2002-01-09                               0.921258   \n",
       "2002-01-10                               0.938691   \n",
       "2002-01-11                               0.945656   \n",
       "\n",
       "            UniqueLocationRate_5_day_of_week_mean  PRCP  TEMP  \n",
       "2002-01-07                               0.930265   0.0  83.5  \n",
       "2002-01-08                               0.942353   0.0  86.5  \n",
       "2002-01-09                               0.924408   0.0  71.0  \n",
       "2002-01-10                               0.936027   0.0  73.5  \n",
       "2002-01-11                               0.948751   0.0  37.5  \n",
       "\n",
       "[5 rows x 398 columns]"
      ]
     },
     "execution_count": 1367,
     "metadata": {},
     "output_type": "execute_result"
    }
   ],
   "source": [
    "px.head()"
   ]
  },
  {
   "cell_type": "code",
   "execution_count": null,
   "metadata": {},
   "outputs": [],
   "source": []
  }
 ],
 "metadata": {
  "kernelspec": {
   "display_name": "Python 3",
   "language": "python",
   "name": "python3"
  },
  "language_info": {
   "codemirror_mode": {
    "name": "ipython",
    "version": 3
   },
   "file_extension": ".py",
   "mimetype": "text/x-python",
   "name": "python",
   "nbconvert_exporter": "python",
   "pygments_lexer": "ipython3",
   "version": "3.6.3"
  }
 },
 "nbformat": 4,
 "nbformat_minor": 2
}
